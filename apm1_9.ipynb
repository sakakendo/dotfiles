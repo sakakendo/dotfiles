{
  "nbformat": 4,
  "nbformat_minor": 0,
  "metadata": {
    "colab": {
      "name": "apm1-9.ipynb",
      "version": "0.3.2",
      "provenance": [],
      "include_colab_link": true
    },
    "kernelspec": {
      "name": "python3",
      "display_name": "Python 3"
    }
  },
  "cells": [
    {
      "cell_type": "markdown",
      "metadata": {
        "id": "view-in-github",
        "colab_type": "text"
      },
      "source": [
        "[View in Colaboratory](https://colab.research.google.com/github/sakakendo0321/dotfiles/blob/master/apm1_9.ipynb)"
      ]
    },
    {
      "metadata": {
        "id": "jAs-IDJakg_-",
        "colab_type": "text"
      },
      "cell_type": "markdown",
      "source": [
        "# 応数 Ⅰ (フーリエ) 課題9\n",
        "### フーリエ変換\n",
        "<div align='right'><u>H30年度</u></div>\n",
        "\n",
        "例題10-16，10-17を確認し，章末問題の[演習7]を行う"
      ]
    },
    {
      "metadata": {
        "id": "OPWs4a4ptcKF",
        "colab_type": "text"
      },
      "cell_type": "markdown",
      "source": [
        "$\n",
        "(1) f(t)*f(t)\\leftrightarrow F(\\omega)\\cdot F(\\omega)\\\\\n",
        "(2)\\frac{1}{2 \\pi} \\delta(t) \\leftrightarrow \\frac{1}{2\\pi}\\\\\n",
        "(3)2\\leftrightarrow 4\\pi\\delta(\\omega)\\\\\n",
        "(4)\\delta(t-5)\\leftrightarrow e^{-j5\\omega}\\\\\n",
        "(5)2\\pi e^{j4t} \\leftrightarrow 4 \\pi^2\\delta(\\omega-4)\\\\\n",
        "(6)\\frac{1}{2\\pi}e^{j2t}\\leftrightarrow \\delta(\\omega-2)\\\\\n",
        "(7)\\delta(t)  +e^{j2t}\\leftrightarrow 1+2\\pi \\delta(\\omega-2)\\\\\n",
        "(8)g(t)\\leftrightarrow sinc(\\frac{\\omega}{2})\\\\\n",
        "sinc(\\frac{\\omega}{2})\\cdot sinc(\\frac{\\omega}{2})= sinc^2(\\frac{\\omega}{2})\\\\\n",
        "(9)g(t)\\cdot \\cos(4\\pi t)\\leftrightarrow\\frac{1}{2} \\{G(\\omega+4\\pi)+G(\\omega-4\\pi) \\},g(t) \\leftrightarrow sinc(\\frac{\\omega}{2})\\\\\n",
        "\\,\\,\\,\\,\\,\\, g(t)\\cos(4\\pi t)\\leftrightarrow \\frac{1}{2} \\{sinc(\\frac{\\omega+4\\pi}{2})+sinc(\\frac{\\omega-4\\pi)}{2} \\}$"
      ]
    }
  ]
}